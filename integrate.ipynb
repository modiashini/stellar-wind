{
 "cells": [
  {
   "cell_type": "code",
   "execution_count": null,
   "metadata": {},
   "outputs": [],
   "source": [
    "from sympy import *\n",
    "import sympy as sy\n",
    "x = symbols('x')\n",
    "mass_loss=(8.21067284717243e+22*((1/(16.3934426229508*x - 0.19672131147541))**1.2)**0.5*(1/(16.3934426229508*x - 0.19672131147541))**0.6*log(1531.16571479152*(1/(16.3934426229508*x - 0.19672131147541))**1.2)**0.5)\n",
    "integrate(mass_loss,(x,0,5))"
   ]
  }
 ],
 "metadata": {
  "kernelspec": {
   "display_name": "Python 3",
   "language": "python",
   "name": "python3"
  },
  "language_info": {
   "codemirror_mode": {
    "name": "ipython",
    "version": 3
   },
   "file_extension": ".py",
   "mimetype": "text/x-python",
   "name": "python",
   "nbconvert_exporter": "python",
   "pygments_lexer": "ipython3",
   "version": "3.6.7"
  }
 },
 "nbformat": 4,
 "nbformat_minor": 2
}
